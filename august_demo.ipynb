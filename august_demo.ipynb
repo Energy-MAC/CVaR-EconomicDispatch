{
 "cells": [
  {
   "cell_type": "code",
   "execution_count": 1,
   "metadata": {},
   "outputs": [
    {
     "name": "stdout",
     "output_type": "stream",
     "text": [
      "\u001b[32m\u001b[1mActivating\u001b[22m\u001b[39m environment at `~/Dropbox/Code/CVaR-EconomicDispatch/Project.toml`\n",
      "\u001b[32m\u001b[1m  Updating\u001b[22m\u001b[39m registry at `~/.julia/registries/General`\n",
      "\u001b[32m\u001b[1m  Updating\u001b[22m\u001b[39m git-repo `https://github.com/JuliaRegistries/General.git`\n",
      "\u001b[?25l\u001b[2K\u001b[?25h\u001b[36m\u001b[1mProject \u001b[22m\u001b[39mCvARED v0.1.0\n",
      "\u001b[32m\u001b[1m    Status\u001b[22m\u001b[39m `~/Dropbox/Code/CVaR-EconomicDispatch/Project.toml`\n",
      " \u001b[90m [336ed68f]\u001b[39m\u001b[37m   CSV v0.5.11\u001b[39m\n",
      " \u001b[90m [a93c6f00]\u001b[39m\u001b[37m   DataFrames v0.19.3\u001b[39m\n",
      " \u001b[90m [31c24e10]\u001b[39m\u001b[37m   Distributions v0.21.1\u001b[39m\n",
      " \u001b[90m [60bf3e95]\u001b[39m\u001b[37m   GLPK v0.10.0\u001b[39m\n",
      " \u001b[90m [b6b21f68]\u001b[39m\u001b[37m   Ipopt v0.5.4\u001b[39m\n",
      " \u001b[90m [4076af6c]\u001b[39m\u001b[37m   JuMP v0.19.2\u001b[39m\n",
      " \u001b[90m [b8f27783]\u001b[39m\u001b[37m   MathOptInterface v0.8.4\u001b[39m\n",
      " \u001b[90m [739be429]\u001b[39m\u001b[93m ↑ MbedTLS v0.6.8 ⚲ ⇒ v0.7.0\u001b[39m\n",
      " \u001b[90m [ab2f91bb]\u001b[39m\u001b[37m   OSQP v0.5.2\u001b[39m\n",
      " \u001b[90m [c36e90e8]\u001b[39m\u001b[92m + PowerModels v0.12.4\u001b[39m\n",
      " \u001b[90m [e690365d]\u001b[39m\u001b[37m   PowerSimulations v0.2.0 [`~/.julia/dev/PowerSimulations`]\u001b[39m\n",
      " \u001b[90m [bcd98974]\u001b[39m\u001b[93m ~ PowerSystems v0.4.0 #struct_updates (https://github.com/NREL/PowerSystems.jl.git) ⇒ v0.4.0 [`~/.julia/dev/PowerSystems`]\u001b[39m\n",
      " \u001b[90m [295af30f]\u001b[39m\u001b[37m   Revise v2.1.8\u001b[39m\n",
      " \u001b[90m [9e3dc215]\u001b[39m\u001b[37m   TimeSeries v0.16.0\u001b[39m\n",
      " \u001b[90m [ade2ca70]\u001b[39m\u001b[37m   Dates \u001b[39m\n",
      " \u001b[90m [37e2e46d]\u001b[39m\u001b[92m + LinearAlgebra \u001b[39m\n",
      " \u001b[90m [56ddb016]\u001b[39m\u001b[37m   Logging \u001b[39m\n",
      " \u001b[90m [9a3f8284]\u001b[39m\u001b[37m   Random \u001b[39m\n",
      " \u001b[90m [10745b16]\u001b[39m\u001b[37m   Statistics \u001b[39m\n",
      "\u001b[32m\u001b[1m    Status\u001b[22m\u001b[39m `~/Dropbox/Code/CVaR-EconomicDispatch/Manifest.toml`\n",
      " \u001b[90m [739be429]\u001b[39m\u001b[93m ↑ MbedTLS v0.6.8 ⚲ ⇒ v0.7.0\u001b[39m\n",
      " \u001b[90m [bcd98974]\u001b[39m\u001b[93m ~ PowerSystems v0.4.0 #struct_updates (https://github.com/NREL/PowerSystems.jl.git) ⇒ v0.4.0 [`~/.julia/dev/PowerSystems`]\u001b[39m\n"
     ]
    }
   ],
   "source": [
    "] activate .; instantiate; st"
   ]
  },
  {
   "cell_type": "code",
   "execution_count": 2,
   "metadata": {},
   "outputs": [
    {
     "name": "stderr",
     "output_type": "stream",
     "text": [
      "┌ Info: Recompiling stale cache file /Users/jdlara/.julia/compiled/v1.2/PowerSystems/rr6EX.ji for PowerSystems [bcd98974-b02a-5e2f-9ee0-a103f5c450dd]\n",
      "└ @ Base loading.jl:1240\n",
      "┌ Info: Recompiling stale cache file /Users/jdlara/.julia/compiled/v1.2/PowerSimulations/ixScC.ji for PowerSimulations [e690365d-45e2-57bb-ac84-44ba829e73c4]\n",
      "└ @ Base loading.jl:1240\n"
     ]
    }
   ],
   "source": [
    "include(\"src/CvARED.jl\")\n",
    "include(\"data/generate_data.jl\")"
   ]
  },
  {
   "cell_type": "code",
   "execution_count": 3,
   "metadata": {},
   "outputs": [],
   "source": [
    "## UC Model Ref\n",
    "abstract type TestOptModel <: PSI.AbstractOperationModel end\n",
    "branches = Dict{Symbol, DeviceModel}()\n",
    "services = Dict{Symbol, PSI.ServiceModel}()\n",
    "\n",
    "devices = Dict{Symbol, DeviceModel}(:Generators => DeviceModel(PSY.ThermalStandard, PSI.ThermalBasicUnitCommitment),\n",
    "                                    :Ren => DeviceModel(PSY.RenewableDispatch, PSI.RenewableFullDispatch),\n",
    "                                    :Loads =>  DeviceModel(PSY.PowerLoad, PSI.StaticPowerLoad),\n",
    "                                    )       \n",
    "\n",
    "\n",
    "model_ref_uc= ModelReference(CopperPlatePowerModel, devices, branches, services);"
   ]
  },
  {
   "cell_type": "code",
   "execution_count": 4,
   "metadata": {},
   "outputs": [
    {
     "name": "stdout",
     "output_type": "stream",
     "text": [
      "Academic license - for non-commercial use only\n",
      "Academic license - for non-commercial use only\n",
      "Optimize a model with 39408 rows, 41976 columns and 110470 nonzeros\n",
      "Model has 9744 quadratic objective terms\n",
      "Variable types: 12456 continuous, 29520 integer (29520 binary)\n",
      "Coefficient statistics:\n",
      "  Matrix range     [4e-03, 1e+01]\n",
      "  Objective range  [2e+02, 4e+03]\n",
      "  QObjective range [2e+01, 4e+01]\n",
      "  Bounds range     [1e-04, 3e+02]\n",
      "  RHS range        [7e-01, 9e+02]\n",
      "Presolve removed 844 rows and 3414 columns\n",
      "Presolve time: 0.16s\n",
      "Presolved: 38564 rows, 38562 columns, 105806 nonzeros\n",
      "Presolved model has 9744 quadratic objective terms\n",
      "Variable types: 9862 continuous, 28700 integer (28700 binary)\n",
      "Found heuristic solution: objective 3.440448e+07\n",
      "Found heuristic solution: objective 3.355123e+07\n",
      "Found heuristic solution: objective 3.352435e+07\n",
      "\n",
      "Root relaxation: objective 3.179704e+07, 49573 iterations, 2.36 seconds\n",
      "\n",
      "    Nodes    |    Current Node    |     Objective Bounds      |     Work\n",
      " Expl Unexpl |  Obj  Depth IntInf | Incumbent    BestBd   Gap | It/Node Time\n",
      "\n",
      "     0     0 3.1797e+07    0 1715 3.3524e+07 3.1797e+07  5.15%     -    4s\n",
      "H    0     0                    3.208866e+07 3.1797e+07  0.91%     -    4s\n",
      "     0     0 3.1797e+07    0 1750 3.2089e+07 3.1797e+07  0.91%     -    4s\n",
      "H    0     0                    3.208371e+07 3.1797e+07  0.89%     -    5s\n",
      "     0     0 3.1797e+07    0 1762 3.2084e+07 3.1797e+07  0.89%     -    5s\n",
      "     0     0 3.1797e+07    0 1786 3.2084e+07 3.1797e+07  0.89%     -    5s\n",
      "H    0     0                    3.208265e+07 3.1797e+07  0.89%     -    5s\n",
      "     0     0 3.1797e+07    0 1786 3.2083e+07 3.1797e+07  0.89%     -    5s\n",
      "     0     0 3.1797e+07    0 1799 3.2083e+07 3.1797e+07  0.89%     -    6s\n",
      "H    0     0                    3.186836e+07 3.1797e+07  0.22%     -    6s\n",
      "H    0     0                    3.186150e+07 3.1797e+07  0.20%     -    6s\n",
      "     0     2 3.1797e+07    0 1799 3.1862e+07 3.1797e+07  0.20%     -    6s\n",
      "H   72    70                    3.185897e+07 3.1799e+07  0.19%  13.9    8s\n",
      "H   79    78                    3.185837e+07 3.1799e+07  0.19%  13.5    8s\n",
      "   215   215 3.1809e+07   41 1688 3.1858e+07 3.1799e+07  0.19%  16.3   10s\n",
      "H  220   215                    3.184743e+07 3.1799e+07  0.15%  16.1   10s\n",
      "H  229   224                    3.184678e+07 3.1799e+07  0.15%  15.8   10s\n",
      "H  238   233                    3.184664e+07 3.1799e+07  0.15%  15.6   10s\n",
      "H  474   475                    3.184626e+07 3.1799e+07  0.15%  11.6   12s\n",
      "H  485   486                    3.184481e+07 3.1799e+07  0.15%  11.5   12s\n",
      "H  582   584                    3.184375e+07 3.1799e+07  0.14%  11.6   13s\n",
      "   675   671 3.1817e+07  149 1423 3.1844e+07 3.1799e+07  0.14%  10.9   15s\n",
      "H  755   756                    3.184108e+07 3.1799e+07  0.13%  10.4   15s\n",
      "H  770   771                    3.184011e+07 3.1799e+07  0.13%  10.3   15s\n",
      "H  876   876                    3.183956e+07 3.1799e+07  0.13%  10.0   17s\n",
      "H  893   893                    3.183894e+07 3.1799e+07  0.13%   9.9   17s\n",
      "H 1039  1041                    3.182384e+07 3.1799e+07  0.08%   9.7   21s\n",
      "H 1041  1043                    3.182280e+07 3.1799e+07  0.08%   9.7   21s\n",
      "\n",
      "Cutting planes:\n",
      "  Implied bound: 19\n",
      "  Clique: 20\n",
      "  MIR: 16\n",
      "  Flow cover: 7\n",
      "\n",
      "Explored 1043 nodes (59897 simplex iterations) in 21.49 seconds\n",
      "Thread count was 8 (of 8 available processors)\n",
      "\n",
      "Solution count 10: 3.18228e+07 3.18238e+07 3.18389e+07 ... 3.18466e+07\n",
      "\n",
      "Optimal solution found (tolerance 1.00e-03)\n",
      "Best objective 3.182279605102e+07, best bound 3.179860592451e+07, gap 0.0760%\n"
     ]
    },
    {
     "name": "stderr",
     "output_type": "stream",
     "text": [
      "\u001b[33m\u001b[1m┌ \u001b[22m\u001b[39m\u001b[33m\u001b[1mWarning: \u001b[22m\u001b[39mInitial status conditions not provided. This can lead to unwanted results\n",
      "\u001b[33m\u001b[1m└ \u001b[22m\u001b[39m\u001b[90m@ PowerSimulations ~/.julia/dev/PowerSimulations/src/devices/device_models/thermal_generation.jl:196\u001b[39m\n"
     ]
    },
    {
     "data": {
      "text/plain": [
       "Results Model\n"
      ]
     },
     "execution_count": 4,
     "metadata": {},
     "output_type": "execute_result"
    }
   ],
   "source": [
    "UC_OpModel = OperationModel(TestOptModel, model_ref_uc, sys_uc; optimizer = Gurobi_optimizer)\n",
    "res = solve_op_model!(UC_OpModel)"
   ]
  },
  {
   "cell_type": "code",
   "execution_count": 5,
   "metadata": {},
   "outputs": [],
   "source": [
    "## ED Model ref\n",
    "branches = Dict{Symbol, DeviceModel}(#:L => DeviceModel(PSY.Line, PSI.StaticLine),\n",
    "                                     #:T => DeviceModel(PSY.Transformer2W, PSI.StaticTransformer),\n",
    "                                     #:TT => DeviceModel(PSY.TapTransformer, PSI.StaticTransformer),\n",
    "                                     #:dc_line => DeviceModel(PSY.HVDCLine, PSI.HVDCDispatch)\n",
    "                                        )\n",
    "\n",
    "services = Dict{Symbol, PSI.ServiceModel}()\n",
    "\n",
    "devices = Dict{Symbol, DeviceModel}(:Generators => DeviceModel(PSY.ThermalStandard, PSI.ThermalDispatchNoMin, SemiContinuousFF(:P, :ON)),\n",
    "                                    :Ren => DeviceModel(PSY.RenewableDispatch, PSI.RenewableFullDispatch),\n",
    "                                    :Loads =>  DeviceModel(PSY.PowerLoad, PSI.StaticPowerLoad),\n",
    "                                    #:ILoads =>  DeviceModel(PSY.InterruptibleLoad, PSI.DispatchablePowerLoad),\n",
    "                                    )       \n",
    "\n",
    "model_ref_ed= ModelReference(CopperPlatePowerModel, devices, branches, services);"
   ]
  },
  {
   "cell_type": "code",
   "execution_count": 6,
   "metadata": {},
   "outputs": [
    {
     "name": "stdout",
     "output_type": "stream",
     "text": [
      "Academic license - for non-commercial use only\n",
      "Academic license - for non-commercial use only\n",
      "Optimize a model with 14784 rows, 11148 columns and 25920 nonzeros\n",
      "Model has 4872 quadratic objective terms\n",
      "Coefficient statistics:\n",
      "  Matrix range     [1e+00, 1e+00]\n",
      "  Objective range  [6e+01, 2e+02]\n",
      "  QObjective range [2e+00, 3e+00]\n",
      "  Bounds range     [1e-04, 3e+02]\n",
      "  RHS range        [1e-02, 8e+02]\n",
      "Presolve removed 14772 rows and 6216 columns\n",
      "Presolve time: 0.01s\n",
      "Presolved: 12 rows, 4932 columns, 4932 nonzeros\n",
      "Presolved model has 4872 quadratic objective terms\n",
      "Ordering time: 0.00s\n",
      "\n",
      "Barrier statistics:\n",
      " AA' NZ     : 0.000e+00\n",
      " Factor NZ  : 1.200e+01 (roughly 2 MBytes of memory)\n",
      " Factor Ops : 1.200e+01 (less than 1 second per iteration)\n",
      " Threads    : 1\n",
      "\n",
      "                  Objective                Residual\n",
      "Iter       Primal          Dual         Primal    Dual     Compl     Time\n",
      "   0   1.60692226e+09 -1.26474659e+09  1.07e+05 8.33e+02  1.00e+06     0s\n",
      "   1   2.82444359e+06 -1.83757619e+07  4.39e+02 3.43e+00  6.09e+03     0s\n",
      "   2   1.43569963e+06 -6.22012680e+06  2.55e+01 2.00e-01  9.83e+02     0s\n",
      "   3   1.34791508e+06  8.11770980e+05  2.08e-01 1.63e-03  5.47e+01     0s\n",
      "   4   1.34043637e+06  1.18361525e+06  5.36e-02 4.19e-04  1.59e+01     0s\n",
      "   5   1.32957717e+06  1.20142887e+06  3.83e-02 3.00e-04  1.30e+01     0s\n",
      "   6   1.32073987e+06  1.22952183e+06  2.26e-02 1.77e-04  9.25e+00     0s\n",
      "   7   1.31729998e+06  1.24469636e+06  1.63e-02 1.28e-04  7.36e+00     0s\n",
      "   8   1.31307980e+06  1.27157226e+06  6.63e-03 5.19e-05  4.21e+00     0s\n",
      "   9   1.30722768e+06  1.28437359e+06  2.38e-03 1.86e-05  2.32e+00     0s\n",
      "  10   1.30310016e+06  1.29397788e+06  6.06e-04 4.74e-06  9.25e-01     0s\n",
      "  11   1.30080350e+06  1.29754895e+06  1.34e-04 1.05e-06  3.30e-01     0s\n",
      "  12   1.29969878e+06  1.29914017e+06  1.34e-10 1.07e-12  5.66e-02     0s\n",
      "  13   1.29945743e+06  1.29943963e+06  1.76e-12 7.11e-14  1.81e-03     0s\n",
      "  14   1.29944893e+06  1.29944874e+06  9.66e-13 1.14e-13  1.90e-05     0s\n",
      "  15   1.29944884e+06  1.29944884e+06  9.09e-13 5.68e-14  3.23e-07     0s\n",
      "  16   1.29944884e+06  1.29944884e+06  1.19e-12 1.14e-13  3.71e-08     0s\n",
      "  17   1.29944884e+06  1.29944884e+06  6.25e-13 1.14e-13  4.34e-09     0s\n",
      "\n",
      "Barrier solved model in 17 iterations and 0.02 seconds\n",
      "Optimal objective 1.29944884e+06\n",
      "\n"
     ]
    },
    {
     "name": "stderr",
     "output_type": "stream",
     "text": [
      "\u001b[33m\u001b[1m┌ \u001b[22m\u001b[39m\u001b[33m\u001b[1mWarning: \u001b[22m\u001b[39mThe addition operator has been used on JuMP expressions a large number of times. This warning is safe to ignore but may indicate that model generation is slower than necessary. For performance reasons, you should not add expressions in a loop. Instead of x += y, use add_to_expression!(x,y) to modify x in place. If y is a single variable, you may also use add_to_expression!(x, coef, y) for x += coef*y.\n",
      "\u001b[33m\u001b[1m└ \u001b[22m\u001b[39m\u001b[90m@ JuMP ~/.julia/packages/JuMP/ibcEh/src/JuMP.jl:692\u001b[39m\n"
     ]
    },
    {
     "data": {
      "text/plain": [
       "Results Model\n"
      ]
     },
     "execution_count": 6,
     "metadata": {},
     "output_type": "execute_result"
    }
   ],
   "source": [
    "ed_OpModel = OperationModel(TestOptModel, model_ref_ed, sys_ed; optimizer = Gurobi_optimizer, parameters = true)\n",
    "res = solve_op_model!(ed_OpModel)"
   ]
  },
  {
   "cell_type": "code",
   "execution_count": 63,
   "metadata": {},
   "outputs": [],
   "source": [
    "include(\"src/cvar_network.jl\")\n",
    "include(\"src/cvar_devices.jl\")"
   ]
  },
  {
   "cell_type": "code",
   "execution_count": 64,
   "metadata": {},
   "outputs": [],
   "source": [
    "branches = Dict{Symbol, DeviceModel}(#:L => DeviceModel(PSY.Line, PSI.StaticLine),\n",
    "                                     #:T => DeviceModel(PSY.Transformer2W, PSI.StaticTransformer),\n",
    "                                     #:TT => DeviceModel(PSY.TapTransformer, PSI.StaticTransformer),\n",
    "                                     #:dc_line => DeviceModel(PSY.HVDCLine, PSI.HVDCDispatch)\n",
    "                                        )\n",
    "\n",
    "services = Dict{Symbol, PSI.ServiceModel}()\n",
    "\n",
    "devices = Dict{Symbol, DeviceModel}(:Generators => DeviceModel(PSY.ThermalStandard, PSI.ThermalDispatchNoMin, SemiContinuousFF(:P, :ON)),\n",
    "                                    :Ren => DeviceModel(PSY.RenewableDispatch, RenewableCvAR),\n",
    "                                    :Loads =>  DeviceModel(PSY.PowerLoad, PSI.StaticPowerLoad),\n",
    "                                    #:ILoads =>  DeviceModel(PSY.InterruptibleLoad, PSI.DispatchablePowerLoad),\n",
    "                                    )       \n",
    "\n",
    "model_ref_cvar= ModelReference(CVaRModel, devices, branches, services);"
   ]
  },
  {
   "cell_type": "code",
   "execution_count": 65,
   "metadata": {},
   "outputs": [
    {
     "name": "stdout",
     "output_type": "stream",
     "text": [
      "Academic license - for non-commercial use only\n"
     ]
    },
    {
     "data": {
      "text/plain": [
       "Operation Model\n"
      ]
     },
     "execution_count": 65,
     "metadata": {},
     "output_type": "execute_result"
    }
   ],
   "source": [
    "cvar_OpModel = OperationModel(TestOptModel, model_ref_cvar, sys_cvar; optimizer = Gurobi_optimizer, parameters = true)"
   ]
  },
  {
   "cell_type": "code",
   "execution_count": 66,
   "metadata": {},
   "outputs": [
    {
     "name": "stdout",
     "output_type": "stream",
     "text": [
      "Academic license - for non-commercial use only\n",
      "Optimize a model with 14808 rows, 12264 columns and 34344 nonzeros\n",
      "Model has 4908 quadratic objective terms\n",
      "Coefficient statistics:\n",
      "  Matrix range     [1e-01, 1e+00]\n",
      "  Objective range  [6e+01, 2e+02]\n",
      "  QObjective range [2e+00, 1e+08]\n",
      "  Bounds range     [1e-02, 1e+01]\n",
      "  RHS range        [1e-02, 8e+02]\n",
      "Presolve removed 14760 rows and 4920 columns\n",
      "Presolve time: 0.02s\n",
      "Presolved: 48 rows, 7344 columns, 14664 nonzeros\n",
      "Presolved model has 4908 quadratic objective terms\n",
      "Ordering time: 0.00s\n",
      "\n",
      "Barrier statistics:\n",
      " Free vars  : 12\n",
      " AA' NZ     : 6.000e+01\n",
      " Factor NZ  : 1.800e+02 (roughly 3 MBytes of memory)\n",
      " Factor Ops : 6.600e+02 (less than 1 second per iteration)\n",
      " Threads    : 1\n",
      "\n",
      "                  Objective                Residual\n",
      "Iter       Primal          Dual         Primal    Dual     Compl     Time\n",
      "   0   1.60704334e+09 -1.26496004e+09  1.24e+05 8.33e+02  1.00e+06     0s\n",
      "   1   3.07713135e+07 -2.44113311e+07  8.20e+03 5.46e+01  6.70e+04     0s\n",
      "   2   2.71514539e+06 -1.59964856e+07  4.65e+02 3.11e+00  4.79e+03     0s\n",
      "   3   1.58266555e+06 -6.79370755e+06  7.13e+01 4.84e-01  1.09e+03     0s\n",
      "   4   1.39333133e+06 -3.04366296e+05  3.67e+00 2.46e-02  1.33e+02     0s\n",
      "   5   1.38679911e+06  5.50515837e+05  1.42e+00 9.51e-03  6.15e+01     0s\n",
      "   6   1.38152347e+06  1.19598868e+06  2.43e-01 1.64e-03  1.29e+01     0s\n",
      "   7   1.37452182e+06  1.21979503e+06  1.76e-01 1.19e-03  1.07e+01     0s\n",
      "   8   1.36475804e+06  1.26234273e+06  8.72e-02 5.98e-04  7.04e+00     0s\n",
      "   9   1.36056817e+06  1.27821128e+06  5.39e-02 3.76e-04  5.64e+00     0s\n",
      "  10   1.35553473e+06  1.30636682e+06  2.46e-02 1.82e-04  3.36e+00     0s\n",
      "  11   1.35311220e+06  1.31746495e+06  1.06e-02 8.61e-05  2.43e+00     0s\n",
      "  12   1.35013967e+06  1.33120220e+06  3.58e-03 2.98e-05  1.29e+00     0s\n",
      "  13   1.34880209e+06  1.33469925e+06  3.58e-09 2.98e-11  9.60e-01     0s\n",
      "  14   1.34632217e+06  1.34307561e+06  4.37e-10 3.69e-12  2.21e-01     0s\n",
      "  15   1.34572070e+06  1.34452038e+06  8.39e-11 7.32e-13  8.17e-02     0s\n",
      "  16   1.34544394e+06  1.34507068e+06  1.36e-11 1.38e-13  2.54e-02     0s\n",
      "  17   1.34534935e+06  1.34522591e+06  3.46e-12 7.11e-14  8.40e-03     0s\n",
      "  18   1.34531445e+06  1.34527993e+06  7.04e-13 1.28e-13  2.35e-03     0s\n",
      "  19   1.34530515e+06  1.34529383e+06  1.83e-13 7.11e-14  7.71e-04     0s\n",
      "  20   1.34530073e+06  1.34530040e+06  4.66e-15 1.28e-13  2.24e-05     0s\n",
      "  21   1.34530060e+06  1.34530060e+06  8.88e-16 1.14e-13  2.62e-07     0s\n",
      "  22   1.34530060e+06  1.34530060e+06  8.88e-16 9.95e-14  1.65e-09     0s\n",
      "\n",
      "Barrier solved model in 22 iterations and 0.05 seconds\n",
      "Optimal objective 1.34530060e+06\n",
      "\n"
     ]
    },
    {
     "ename": "BoundsError",
     "evalue": "BoundsError: attempt to access (1:12,)\n  at index [2]",
     "output_type": "error",
     "traceback": [
      "BoundsError: attempt to access (1:12,)\n  at index [2]",
      "",
      "Stacktrace:",
      " [1] getindex(::Tuple, ::Int64) at ./tuple.jl:24",
      " [2] _result_dataframe_vars(::JuMP.Containers.DenseAxisArray{VariableRef,1,Tuple{UnitRange{Int64}},Tuple{Dict{Int64,Int64}}}) at /Users/jdlara/.julia/dev/PowerSimulations/src/routines/get_results.jl:5",
      " [3] get_model_result(::OperationModel{TestOptModel}) at /Users/jdlara/.julia/dev/PowerSimulations/src/routines/get_results.jl:40",
      " [4] #solve_op_model!#234(::Base.Iterators.Pairs{Union{},Union{},Tuple{},NamedTuple{(),Tuple{}}}, ::typeof(solve_op_model!), ::OperationModel{TestOptModel}) at /Users/jdlara/.julia/dev/PowerSimulations/src/routines/solve_routines.jl:29",
      " [5] solve_op_model!(::OperationModel{TestOptModel}) at /Users/jdlara/.julia/dev/PowerSimulations/src/routines/solve_routines.jl:3",
      " [6] top-level scope at In[66]:1"
     ]
    }
   ],
   "source": [
    "res = solve_op_model!(cvar_OpModel)"
   ]
  },
  {
   "cell_type": "code",
   "execution_count": 74,
   "metadata": {},
   "outputs": [],
   "source": [
    "variable = PSI.var(cvar_OpModel.canonical, :P_ThermalStandard)\n",
    "result = Array{Float64, length(variable.axes)}(undef, length(variable.axes[2]), length(variable.axes[1]))\n",
    "for t in variable.axes[2], (ix, name) in enumerate(variable.axes[1])\n",
    "        result[t, ix] = JuMP.value(variable[name, t])\n",
    "end"
   ]
  },
  {
   "cell_type": "code",
   "execution_count": 69,
   "metadata": {},
   "outputs": [
    {
     "data": {
      "text/plain": [
       "Dict{Symbol,JuMP.Containers.DenseAxisArray} with 5 entries:\n",
       "  :P_ThermalStandard => 2-dimensional DenseAxisArray{VariableRef,2,...} with in…\n",
       "  :delta_rhs         => 1-dimensional DenseAxisArray{VariableRef,1,...} with in…\n",
       "  :u_rhs             => 2-dimensional DenseAxisArray{VariableRef,2,...} with in…\n",
       "  :delta_lhs         => 1-dimensional DenseAxisArray{VariableRef,1,...} with in…\n",
       "  :u_lhs             => 2-dimensional DenseAxisArray{VariableRef,2,...} with in…"
      ]
     },
     "execution_count": 69,
     "metadata": {},
     "output_type": "execute_result"
    }
   ],
   "source": [
    "cvar_OpModel.canonical.variables"
   ]
  },
  {
   "cell_type": "code",
   "execution_count": 75,
   "metadata": {},
   "outputs": [
    {
     "data": {
      "text/plain": [
       "12×410 Array{Float64,2}:\n",
       " 2.3505  4.6914e-12   1.7267  1.149  …  0.05  0.605  1.63  8.15323  1.106\n",
       " 2.3505  4.26971e-12  1.7267  1.149     0.05  0.605  1.63  6.47629  1.106\n",
       " 2.3505  4.1745e-12   1.7267  1.149     0.05  0.605  1.63  6.05076  1.106\n",
       " 2.3505  4.09398e-12  1.7267  1.149     0.05  0.605  1.63  5.67549  1.106\n",
       " 2.3505  4.03744e-12  1.7267  1.149     0.05  0.605  1.63  5.40301  1.106\n",
       " 2.3505  4.31219e-12  1.7267  1.149  …  0.05  0.605  1.63  6.6601   1.106\n",
       " 2.3505  4.72491e-12  1.7267  1.149     0.05  0.605  1.63  8.27365  1.106\n",
       " 2.3505  5.16562e-12  1.7267  1.149     0.05  0.605  1.63  9.71167  1.106\n",
       " 2.3505  5.01103e-12  1.7267  1.149     0.05  0.605  1.63  9.25593  1.106\n",
       " 2.3505  4.92178e-12  1.7267  1.149     0.05  0.605  1.63  8.94787  1.106\n",
       " 2.3505  4.8415e-12   1.7267  1.149  …  0.05  0.605  1.63  8.67954  1.106\n",
       " 2.3505  4.91882e-12  1.7267  1.149     0.05  0.605  1.63  8.9381   1.106"
      ]
     },
     "execution_count": 75,
     "metadata": {},
     "output_type": "execute_result"
    }
   ],
   "source": [
    "result"
   ]
  },
  {
   "cell_type": "code",
   "execution_count": null,
   "metadata": {},
   "outputs": [],
   "source": []
  }
 ],
 "metadata": {
  "kernelspec": {
   "display_name": "Julia 1.2.0",
   "language": "julia",
   "name": "julia-1.2"
  },
  "language_info": {
   "file_extension": ".jl",
   "mimetype": "application/julia",
   "name": "julia",
   "version": "1.2.0"
  }
 },
 "nbformat": 4,
 "nbformat_minor": 2
}
