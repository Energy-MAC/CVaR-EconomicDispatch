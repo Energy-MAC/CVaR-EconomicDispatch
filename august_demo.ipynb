{
 "cells": [
  {
   "cell_type": "code",
   "execution_count": null,
   "metadata": {},
   "outputs": [],
   "source": [
    "; cd '~/Dropbox/code/PowerSimulations.jl'"
   ]
  },
  {
   "cell_type": "code",
   "execution_count": null,
   "metadata": {},
   "outputs": [],
   "source": [
    "] activate .; instantiate; build; st"
   ]
  },
  {
   "cell_type": "code",
   "execution_count": null,
   "metadata": {},
   "outputs": [],
   "source": [
    "include(\"src/cvar.jl\")"
   ]
  },
  {
   "cell_type": "code",
   "execution_count": null,
   "metadata": {},
   "outputs": [],
   "source": [
    "include(joinpath(\"/Users/jdlara/Documents/UCB/NREL Work/get_ERCOT_data.jl\"))"
   ]
  },
  {
   "cell_type": "code",
   "execution_count": null,
   "metadata": {},
   "outputs": [],
   "source": []
  },
  {
   "cell_type": "code",
   "execution_count": null,
   "metadata": {},
   "outputs": [],
   "source": []
  },
  {
   "cell_type": "code",
   "execution_count": null,
   "metadata": {},
   "outputs": [],
   "source": [
    "branches = Dict{Symbol, DeviceModel}(:L => DeviceModel(PSY.Line, PSI.StaticLine),\n",
    "                                     :T => DeviceModel(PSY.Transformer2W, PSI.StaticTransformer),\n",
    "                                     :TT => DeviceModel(PSY.TapTransformer, PSI.StaticTransformer),\n",
    "                                     :dc_line => DeviceModel(PSY.HVDCLine, PSI.HVDCDispatch))\n",
    "\n",
    "services = Dict{Symbol, PSI.ServiceModel}()\n",
    "\n",
    "devices = Dict{Symbol, DeviceModel}(:Generators => DeviceModel(PSY.ThermalStandard, PSI.ThermalUnitCommitment),\n",
    "                                    :Ren => DeviceModel(PSY.RenewableDispatch, PSI.RenewableFullDispatch),\n",
    "                                    :Loads =>  DeviceModel(PSY.PowerLoad, PSI.StaticPowerLoad))       \n",
    "\n",
    "#Model_ref holds all the details of the model to be built \n",
    "model_ref= ModelReference(CopperPlatePowerModel, devices, branches, services);"
   ]
  },
  {
   "cell_type": "code",
   "execution_count": null,
   "metadata": {},
   "outputs": [],
   "source": [
    "OpModel = OperationModel(TestOptModel, model_ref, sys2; optimizer = CPLEX_optimizer, parameters = false, forecast=false)"
   ]
  },
  {
   "cell_type": "code",
   "execution_count": null,
   "metadata": {},
   "outputs": [],
   "source": [
    "OpModel.canonical_model.variables"
   ]
  },
  {
   "cell_type": "code",
   "execution_count": null,
   "metadata": {},
   "outputs": [],
   "source": []
  },
  {
   "cell_type": "code",
   "execution_count": null,
   "metadata": {},
   "outputs": [],
   "source": []
  }
 ],
 "metadata": {
  "kernelspec": {
   "display_name": "Julia 1.1.1",
   "language": "julia",
   "name": "julia-1.1"
  },
  "language_info": {
   "file_extension": ".jl",
   "mimetype": "application/julia",
   "name": "julia",
   "version": "1.1.1"
  }
 },
 "nbformat": 4,
 "nbformat_minor": 2
}
