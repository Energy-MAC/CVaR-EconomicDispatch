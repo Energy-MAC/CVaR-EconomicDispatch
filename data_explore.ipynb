{
 "cells": [
  {
   "cell_type": "code",
   "execution_count": 1,
   "metadata": {},
   "outputs": [],
   "source": [
    "using PowerSystems\n",
    "using DataFrames\n",
    "using Logging\n",
    "using CSV\n",
    "gl = global_logger()\n",
    "LOG_LEVELS = Dict(\n",
    "    \"Debug\" => Logging.Debug,\n",
    "    \"Info\" => Logging.Info,\n",
    "    \"Warn\" => Logging.Warn,\n",
    "    \"Error\" => Logging.Error,\n",
    ")\n",
    "level = get(ENV, \"PS_LOG_LEVEL\", \"Error\")\n",
    "log_level = get(LOG_LEVELS, level, nothing)\n",
    "global_logger(ConsoleLogger(gl.stream, log_level));"
   ]
  },
  {
   "cell_type": "code",
   "execution_count": 2,
   "metadata": {},
   "outputs": [
    {
     "data": {
      "text/plain": [
       "Dict{String,Any} with 9 entries:\n",
       "  \"name\"        => \"ACTIVSg2000\"\n",
       "  \"dcline\"      => Dict{String,Any}()\n",
       "  \"baseMVA\"     => 100.0\n",
       "  \"gen\"         => Dict{String,Any}(\"Renewable\"=>Dict{String,Any}(\"PV\"=>Dict{St…\n",
       "  \"branch\"      => Dict{String,Any}(\"Transformers\"=>Dict{String,Any}(\"2674\"=>Di…\n",
       "  \"shunt\"       => Dict{String,Any}(\"32\"=>Dict{String,Any}(\"Y\"=>0.0+65.0im,\"nam…\n",
       "  \"load\"        => Dict{String,Any}(\"1\"=>Dict{String,Any}(\"name\"=>\"ODESSA 2 0\",…\n",
       "  \"bus\"         => Dict{Int64,Any}(1704=>Dict{String,Any}(\"voltagelimits\"=>(min…\n",
       "  \"source_type\" => \"matpower\""
      ]
     },
     "execution_count": 2,
     "metadata": {},
     "output_type": "execute_result"
    }
   ],
   "source": [
    "pm_dict = parse_file(\"data/ACTIVSg2000.m\")\n",
    "PowerSystems.make_mixed_units(pm_dict)\n",
    "ps_dict = PowerSystems.pm2ps_dict(pm_dict)"
   ]
  },
  {
   "cell_type": "code",
   "execution_count": 3,
   "metadata": {},
   "outputs": [
    {
     "data": {
      "text/plain": [
       "23.95"
      ]
     },
     "execution_count": 3,
     "metadata": {},
     "output_type": "execute_result"
    }
   ],
   "source": [
    "ps_dict[\"load\"][\"519\"][\"maxactivepower\"]"
   ]
  },
  {
   "cell_type": "code",
   "execution_count": 4,
   "metadata": {},
   "outputs": [
    {
     "data": {
      "text/plain": [
       "\"PV_Data.csv\""
      ]
     },
     "execution_count": 4,
     "metadata": {},
     "output_type": "execute_result"
    }
   ],
   "source": [
    "PVdf = DataFrame(bus = [element[\"bus\"].name for element in values(ps_dict[\"gen\"][\"Renewable\"][\"PV\"])]);\n",
    "PVcapdf = [element[\"tech\"][\"installedcapacity\"] for element in values(ps_dict[\"gen\"][\"Renewable\"][\"PV\"])]\n",
    "PVdf[:Capacity] = PVcapdf;\n",
    "PVdf[:Source] = \"PV\";\n",
    "PVdf\n",
    "CSV.write(\"PV_Data.csv\", PVdf)"
   ]
  },
  {
   "cell_type": "code",
   "execution_count": 5,
   "metadata": {},
   "outputs": [
    {
     "data": {
      "text/plain": [
       "\"Wind_Data.csv\""
      ]
     },
     "execution_count": 5,
     "metadata": {},
     "output_type": "execute_result"
    }
   ],
   "source": [
    "Winddf = DataFrame(bus = [element[\"bus\"].name for element in values(ps_dict[\"gen\"][\"Renewable\"][\"WIND\"])]);\n",
    "Windcapdf = [element[\"tech\"][\"installedcapacity\"] for element in values(ps_dict[\"gen\"][\"Renewable\"][\"WIND\"])]\n",
    "Winddf[:Capacity] = Windcapdf;\n",
    "Winddf[:Source] = \"Wind\";\n",
    "Winddf\n",
    "CSV.write(\"Wind_Data.csv\", Winddf)"
   ]
  },
  {
   "cell_type": "code",
   "execution_count": 6,
   "metadata": {},
   "outputs": [
    {
     "data": {
      "text/plain": [
       "\"Hydro_Data.csv\""
      ]
     },
     "execution_count": 6,
     "metadata": {},
     "output_type": "execute_result"
    }
   ],
   "source": [
    "Hydrodf = DataFrame(bus = [element[\"bus\"].name for element in values(ps_dict[\"gen\"][\"Hydro\"])]);\n",
    "HydroCapdf = [element[\"tech\"][\"installedcapacity\"] for element in values(ps_dict[\"gen\"][\"Hydro\"])]\n",
    "Hydrodf[:Capacity] = HydroCapdf;\n",
    "Hydrodf[:Source] = \"Hydro\";\n",
    "Hydrodf\n",
    "CSV.write(\"Hydro_Data.csv\", Hydrodf)"
   ]
  },
  {
   "cell_type": "code",
   "execution_count": 7,
   "metadata": {},
   "outputs": [],
   "source": [
    "bus = Vector{String}()\n",
    "fuel = Vector{String}()\n",
    "cap = Vector{Float64}()\n",
    "for (k,v) in ps_dict[\"gen\"][\"Thermal\"]\n",
    "    push!(bus, v[\"bus\"].name)\n",
    "    push!(fuel, pm_dict[\"gen\"][k][\"fuel\"])\n",
    "    push!(cap, v[\"tech\"][\"activepowerlimits\"].max)\n",
    "end"
   ]
  },
  {
   "cell_type": "code",
   "execution_count": 8,
   "metadata": {},
   "outputs": [
    {
     "data": {
      "text/plain": [
       "\"Thermal_Data.csv\""
      ]
     },
     "execution_count": 8,
     "metadata": {},
     "output_type": "execute_result"
    }
   ],
   "source": [
    "thermaldf = DataFrame(bus = bus, capacity = cap, fuel = fuel);\n",
    "thermaldf[:Source] = \"Thermal\";\n",
    "thermaldf\n",
    "CSV.write(\"Thermal_Data.csv\", thermaldf)"
   ]
  },
  {
   "cell_type": "code",
   "execution_count": 9,
   "metadata": {},
   "outputs": [
    {
     "data": {
      "text/plain": [
       "\"Load_Data.csv\""
      ]
     },
     "execution_count": 9,
     "metadata": {},
     "output_type": "execute_result"
    }
   ],
   "source": [
    "Loaddf = DataFrame(bus = [element[\"bus\"].name for element in values(ps_dict[\"load\"])]);\n",
    "LoadPower = [element[\"maxactivepower\"] for element in values(ps_dict[\"load\"])]\n",
    "Loaddf[:PeakPower] = LoadPower;\n",
    "Loaddf[:Source] = \"Load\";\n",
    "Loaddf\n",
    "CSV.write(\"Load_Data.csv\", Loaddf)"
   ]
  },
  {
   "cell_type": "code",
   "execution_count": null,
   "metadata": {},
   "outputs": [],
   "source": []
  }
 ],
 "metadata": {
  "kernelspec": {
   "display_name": "Julia 1.1.0",
   "language": "julia",
   "name": "julia-1.1"
  },
  "language_info": {
   "file_extension": ".jl",
   "mimetype": "application/julia",
   "name": "julia",
   "version": "1.1.0"
  }
 },
 "nbformat": 4,
 "nbformat_minor": 2
}
